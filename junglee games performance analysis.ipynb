{
 "cells": [
  {
   "cell_type": "code",
   "execution_count": 4,
   "metadata": {},
   "outputs": [
    {
     "data": {
      "text/html": [
       "<div>\n",
       "<style>\n",
       "    .dataframe thead tr:only-child th {\n",
       "        text-align: right;\n",
       "    }\n",
       "\n",
       "    .dataframe thead th {\n",
       "        text-align: left;\n",
       "    }\n",
       "\n",
       "    .dataframe tbody tr th {\n",
       "        vertical-align: top;\n",
       "    }\n",
       "</style>\n",
       "<table border=\"1\" class=\"dataframe\">\n",
       "  <thead>\n",
       "    <tr style=\"text-align: right;\">\n",
       "      <th></th>\n",
       "      <th>Date</th>\n",
       "      <th>Entry Fee</th>\n",
       "      <th>Seat</th>\n",
       "      <th>Composition</th>\n",
       "      <th>Cut %</th>\n",
       "      <th># Users</th>\n",
       "      <th>User Cash Game Count</th>\n",
       "      <th>Rake</th>\n",
       "      <th>Wager</th>\n",
       "    </tr>\n",
       "  </thead>\n",
       "  <tbody>\n",
       "    <tr>\n",
       "      <th>0</th>\n",
       "      <td>July 1, 2018</td>\n",
       "      <td>10</td>\n",
       "      <td>2</td>\n",
       "      <td>2</td>\n",
       "      <td>0.15</td>\n",
       "      <td>198</td>\n",
       "      <td>593</td>\n",
       "      <td>889.5</td>\n",
       "      <td>5930</td>\n",
       "    </tr>\n",
       "    <tr>\n",
       "      <th>1</th>\n",
       "      <td>July 1, 2018</td>\n",
       "      <td>10</td>\n",
       "      <td>6</td>\n",
       "      <td>2</td>\n",
       "      <td>0.15</td>\n",
       "      <td>347</td>\n",
       "      <td>560</td>\n",
       "      <td>840.0</td>\n",
       "      <td>5600</td>\n",
       "    </tr>\n",
       "    <tr>\n",
       "      <th>2</th>\n",
       "      <td>July 1, 2018</td>\n",
       "      <td>10</td>\n",
       "      <td>6</td>\n",
       "      <td>3</td>\n",
       "      <td>0.15</td>\n",
       "      <td>568</td>\n",
       "      <td>1029</td>\n",
       "      <td>1543.5</td>\n",
       "      <td>10290</td>\n",
       "    </tr>\n",
       "    <tr>\n",
       "      <th>3</th>\n",
       "      <td>July 1, 2018</td>\n",
       "      <td>10</td>\n",
       "      <td>6</td>\n",
       "      <td>4</td>\n",
       "      <td>0.15</td>\n",
       "      <td>584</td>\n",
       "      <td>1035</td>\n",
       "      <td>1552.5</td>\n",
       "      <td>10350</td>\n",
       "    </tr>\n",
       "    <tr>\n",
       "      <th>4</th>\n",
       "      <td>July 1, 2018</td>\n",
       "      <td>10</td>\n",
       "      <td>6</td>\n",
       "      <td>5</td>\n",
       "      <td>0.15</td>\n",
       "      <td>592</td>\n",
       "      <td>1065</td>\n",
       "      <td>1597.5</td>\n",
       "      <td>10650</td>\n",
       "    </tr>\n",
       "  </tbody>\n",
       "</table>\n",
       "</div>"
      ],
      "text/plain": [
       "           Date  Entry Fee  Seat  Composition  Cut %  # Users  \\\n",
       "0  July 1, 2018         10     2            2   0.15      198   \n",
       "1  July 1, 2018         10     6            2   0.15      347   \n",
       "2  July 1, 2018         10     6            3   0.15      568   \n",
       "3  July 1, 2018         10     6            4   0.15      584   \n",
       "4  July 1, 2018         10     6            5   0.15      592   \n",
       "\n",
       "   User Cash Game Count    Rake  Wager  \n",
       "0                   593   889.5   5930  \n",
       "1                   560   840.0   5600  \n",
       "2                  1029  1543.5  10290  \n",
       "3                  1035  1552.5  10350  \n",
       "4                  1065  1597.5  10650  "
      ]
     },
     "execution_count": 4,
     "metadata": {},
     "output_type": "execute_result"
    }
   ],
   "source": [
    "import pandas as pd\n",
    "df= pd.read_excel(\"C:\\\\Users\\\\piyul\\\\Desktop\\\\kaggle\\\\101 Pool Game Case Study - Data Set.xlsx\")\n",
    "df.head()"
   ]
  },
  {
   "cell_type": "code",
   "execution_count": 5,
   "metadata": {},
   "outputs": [
    {
     "data": {
      "text/html": [
       "<div>\n",
       "<style>\n",
       "    .dataframe thead tr:only-child th {\n",
       "        text-align: right;\n",
       "    }\n",
       "\n",
       "    .dataframe thead th {\n",
       "        text-align: left;\n",
       "    }\n",
       "\n",
       "    .dataframe tbody tr th {\n",
       "        vertical-align: top;\n",
       "    }\n",
       "</style>\n",
       "<table border=\"1\" class=\"dataframe\">\n",
       "  <thead>\n",
       "    <tr style=\"text-align: right;\">\n",
       "      <th></th>\n",
       "      <th>Date</th>\n",
       "      <th>Entry Fee</th>\n",
       "      <th>Seat</th>\n",
       "      <th>Composition</th>\n",
       "      <th>Cut %</th>\n",
       "      <th># Users</th>\n",
       "      <th>User Cash Game Count</th>\n",
       "      <th>Rake</th>\n",
       "      <th>Wager</th>\n",
       "    </tr>\n",
       "  </thead>\n",
       "  <tbody>\n",
       "    <tr>\n",
       "      <th>0</th>\n",
       "      <td>2018-07-01</td>\n",
       "      <td>10</td>\n",
       "      <td>2</td>\n",
       "      <td>2</td>\n",
       "      <td>0.15</td>\n",
       "      <td>198</td>\n",
       "      <td>593</td>\n",
       "      <td>889.5</td>\n",
       "      <td>5930</td>\n",
       "    </tr>\n",
       "    <tr>\n",
       "      <th>1</th>\n",
       "      <td>2018-07-01</td>\n",
       "      <td>10</td>\n",
       "      <td>6</td>\n",
       "      <td>2</td>\n",
       "      <td>0.15</td>\n",
       "      <td>347</td>\n",
       "      <td>560</td>\n",
       "      <td>840.0</td>\n",
       "      <td>5600</td>\n",
       "    </tr>\n",
       "    <tr>\n",
       "      <th>2</th>\n",
       "      <td>2018-07-01</td>\n",
       "      <td>10</td>\n",
       "      <td>6</td>\n",
       "      <td>3</td>\n",
       "      <td>0.15</td>\n",
       "      <td>568</td>\n",
       "      <td>1029</td>\n",
       "      <td>1543.5</td>\n",
       "      <td>10290</td>\n",
       "    </tr>\n",
       "    <tr>\n",
       "      <th>3</th>\n",
       "      <td>2018-07-01</td>\n",
       "      <td>10</td>\n",
       "      <td>6</td>\n",
       "      <td>4</td>\n",
       "      <td>0.15</td>\n",
       "      <td>584</td>\n",
       "      <td>1035</td>\n",
       "      <td>1552.5</td>\n",
       "      <td>10350</td>\n",
       "    </tr>\n",
       "    <tr>\n",
       "      <th>4</th>\n",
       "      <td>2018-07-01</td>\n",
       "      <td>10</td>\n",
       "      <td>6</td>\n",
       "      <td>5</td>\n",
       "      <td>0.15</td>\n",
       "      <td>592</td>\n",
       "      <td>1065</td>\n",
       "      <td>1597.5</td>\n",
       "      <td>10650</td>\n",
       "    </tr>\n",
       "  </tbody>\n",
       "</table>\n",
       "</div>"
      ],
      "text/plain": [
       "        Date  Entry Fee  Seat  Composition  Cut %  # Users  \\\n",
       "0 2018-07-01         10     2            2   0.15      198   \n",
       "1 2018-07-01         10     6            2   0.15      347   \n",
       "2 2018-07-01         10     6            3   0.15      568   \n",
       "3 2018-07-01         10     6            4   0.15      584   \n",
       "4 2018-07-01         10     6            5   0.15      592   \n",
       "\n",
       "   User Cash Game Count    Rake  Wager  \n",
       "0                   593   889.5   5930  \n",
       "1                   560   840.0   5600  \n",
       "2                  1029  1543.5  10290  \n",
       "3                  1035  1552.5  10350  \n",
       "4                  1065  1597.5  10650  "
      ]
     },
     "execution_count": 5,
     "metadata": {},
     "output_type": "execute_result"
    }
   ],
   "source": [
    "df[\"Date\"]=pd.to_datetime(df[\"Date\"])\n",
    "df.head()"
   ]
  },
  {
   "cell_type": "code",
   "execution_count": 6,
   "metadata": {},
   "outputs": [
    {
     "data": {
      "text/plain": [
       "Date                    datetime64[ns]\n",
       "Entry Fee                        int64\n",
       "Seat                             int64\n",
       "Composition                      int64\n",
       "Cut %                          float64\n",
       "# Users                          int64\n",
       "User Cash Game Count             int64\n",
       "Rake                           float64\n",
       "Wager                            int64\n",
       "dtype: object"
      ]
     },
     "execution_count": 6,
     "metadata": {},
     "output_type": "execute_result"
    }
   ],
   "source": [
    "df.dtypes"
   ]
  },
  {
   "cell_type": "code",
   "execution_count": 7,
   "metadata": {},
   "outputs": [],
   "source": [
    "df.rename(columns={\"Entry Fee\": \"entry_fee\", \"Cut %\":\"cut\",\"# Users\":\"users\",\"User Cash Game Count\": \"count\"},inplace=True)"
   ]
  },
  {
   "cell_type": "code",
   "execution_count": 8,
   "metadata": {},
   "outputs": [
    {
     "data": {
      "text/plain": [
       "array([   10,    25,    50,   100,   250,   500,  1000,  2000,  3000,\n",
       "        5000, 10000,  2500,     5], dtype=int64)"
      ]
     },
     "execution_count": 8,
     "metadata": {},
     "output_type": "execute_result"
    }
   ],
   "source": [
    "df[\"entry_fee\"].unique()"
   ]
  },
  {
   "cell_type": "code",
   "execution_count": 9,
   "metadata": {},
   "outputs": [],
   "source": [
    "df=df.dropna()"
   ]
  },
  {
   "cell_type": "code",
   "execution_count": 27,
   "metadata": {},
   "outputs": [],
   "source": [
    "# df=df.astype({'entry_fee': 'float64','Seat': 'float64','comp': 'float64'}).dtypes"
   ]
  },
  {
   "cell_type": "code",
   "execution_count": 10,
   "metadata": {},
   "outputs": [
    {
     "data": {
      "text/plain": [
       "Date           datetime64[ns]\n",
       "entry_fee               int64\n",
       "Seat                    int64\n",
       "Composition             int64\n",
       "cut                   float64\n",
       "users                   int64\n",
       "count                   int64\n",
       "Rake                  float64\n",
       "Wager                   int64\n",
       "dtype: object"
      ]
     },
     "execution_count": 10,
     "metadata": {},
     "output_type": "execute_result"
    }
   ],
   "source": [
    "df.dtypes"
   ]
  },
  {
   "cell_type": "code",
   "execution_count": null,
   "metadata": {
    "collapsed": true
   },
   "outputs": [],
   "source": [
    "# f=df.groupby([\"entry_fee\"])['Rake'].transform(max) == df['Rake']\n",
    "# df[f]"
   ]
  },
  {
   "cell_type": "code",
   "execution_count": null,
   "metadata": {
    "collapsed": true
   },
   "outputs": [],
   "source": [
    "###############################################################################################################################"
   ]
  },
  {
   "cell_type": "code",
   "execution_count": 17,
   "metadata": {},
   "outputs": [],
   "source": [
    "# df = df.astype({\"count\":'category'}) \n",
    "# df = df.astype({\"count\":'int64'}) \n",
    "# df.dtypes"
   ]
  },
  {
   "cell_type": "code",
   "execution_count": 20,
   "metadata": {
    "scrolled": false
   },
   "outputs": [
    {
     "name": "stdout",
     "output_type": "stream",
     "text": [
      "Rake    309.969298\n",
      "dtype: float64\n",
      "count    413.292398\n",
      "dtype: float64\n"
     ]
    }
   ],
   "source": [
    "f=(df.loc[(df['entry_fee']== 5) & (df[\"Seat\"]==2) & (df[\"Composition\"]==2)])\n",
    "m=f[['Rake']].mean()\n",
    "s=f[['count']].mean()\n",
    "print(m)\n",
    "print(s)"
   ]
  },
  {
   "cell_type": "code",
   "execution_count": 21,
   "metadata": {},
   "outputs": [
    {
     "name": "stdout",
     "output_type": "stream",
     "text": [
      "Rake    353.631579\n",
      "dtype: float64\n",
      "count    471.508772\n",
      "dtype: float64\n"
     ]
    }
   ],
   "source": [
    "f=(df.loc[(df['entry_fee']== 5) & (df[\"Seat\"]==6) & (df[\"Composition\"]==2)])\n",
    "m=f[['Rake']].mean()\n",
    "s=f[['count']].mean()\n",
    "print(m)\n",
    "print(s)"
   ]
  },
  {
   "cell_type": "code",
   "execution_count": 22,
   "metadata": {},
   "outputs": [
    {
     "name": "stdout",
     "output_type": "stream",
     "text": [
      "Rake    507.640351\n",
      "dtype: float64\n",
      "count    676.853801\n",
      "dtype: float64\n"
     ]
    }
   ],
   "source": [
    "f=(df.loc[(df['entry_fee']== 5) & (df[\"Seat\"]==6) & (df[\"Composition\"]==3)])\n",
    "m=f[['Rake']].mean()\n",
    "s=f[['count']].mean()\n",
    "print(m)\n",
    "print(s)"
   ]
  },
  {
   "cell_type": "code",
   "execution_count": 23,
   "metadata": {},
   "outputs": [
    {
     "name": "stdout",
     "output_type": "stream",
     "text": [
      "Rake    451.254386\n",
      "dtype: float64\n",
      "count    601.672515\n",
      "dtype: float64\n"
     ]
    }
   ],
   "source": [
    "f=(df.loc[(df['entry_fee']== 5) & (df[\"Seat\"]==6) & (df[\"Composition\"]==4)])\n",
    "m=f[['Rake']].mean()\n",
    "s=f[['count']].mean()\n",
    "print(m)\n",
    "print(s)"
   ]
  },
  {
   "cell_type": "code",
   "execution_count": 24,
   "metadata": {},
   "outputs": [
    {
     "name": "stdout",
     "output_type": "stream",
     "text": [
      "Rake    302.649123\n",
      "dtype: float64\n",
      "count    403.532164\n",
      "dtype: float64\n"
     ]
    }
   ],
   "source": [
    "f=(df.loc[(df['entry_fee']== 5) & (df[\"Seat\"]==6) & (df[\"Composition\"]==5)])\n",
    "m=f[['Rake']].mean()\n",
    "s=f[['count']].mean()\n",
    "print(m)\n",
    "print(s)"
   ]
  },
  {
   "cell_type": "code",
   "execution_count": 25,
   "metadata": {},
   "outputs": [
    {
     "name": "stdout",
     "output_type": "stream",
     "text": [
      "Rake    210.114035\n",
      "dtype: float64\n",
      "count    280.152047\n",
      "dtype: float64\n"
     ]
    }
   ],
   "source": [
    "f=(df.loc[(df['entry_fee']== 5) & (df[\"Seat\"]==6) & (df[\"Composition\"]==6)])\n",
    "m=f[['Rake']].mean()\n",
    "s=f[['count']].mean()\n",
    "print(m)\n",
    "print(s)"
   ]
  },
  {
   "cell_type": "code",
   "execution_count": null,
   "metadata": {
    "collapsed": true
   },
   "outputs": [],
   "source": [
    "##########################################################################################################################"
   ]
  },
  {
   "cell_type": "code",
   "execution_count": null,
   "metadata": {
    "collapsed": true
   },
   "outputs": [],
   "source": [
    "###########################################################################################################################3"
   ]
  },
  {
   "cell_type": "code",
   "execution_count": 26,
   "metadata": {},
   "outputs": [
    {
     "name": "stdout",
     "output_type": "stream",
     "text": [
      "Rake    666.213439\n",
      "dtype: float64\n",
      "count    444.142292\n",
      "dtype: float64\n"
     ]
    }
   ],
   "source": [
    "f=(df.loc[(df['entry_fee']== 10) & (df[\"Seat\"]==2) & (df[\"Composition\"]==2)])\n",
    "m=f[['Rake']].mean()\n",
    "s=f[['count']].mean()\n",
    "print(m)\n",
    "print(s)"
   ]
  },
  {
   "cell_type": "code",
   "execution_count": 27,
   "metadata": {},
   "outputs": [
    {
     "name": "stdout",
     "output_type": "stream",
     "text": [
      "Rake    655.363636\n",
      "dtype: float64\n",
      "count    436.909091\n",
      "dtype: float64\n"
     ]
    }
   ],
   "source": [
    "f=(df.loc[(df['entry_fee']== 10) & (df[\"Seat\"]==6) & (df[\"Composition\"]==2)])\n",
    "m=f[['Rake']].mean()\n",
    "s=f[['count']].mean()\n",
    "print(m)\n",
    "print(s)"
   ]
  },
  {
   "cell_type": "code",
   "execution_count": 28,
   "metadata": {},
   "outputs": [
    {
     "name": "stdout",
     "output_type": "stream",
     "text": [
      "Rake    1021.594862\n",
      "dtype: float64\n",
      "count    681.063241\n",
      "dtype: float64\n"
     ]
    }
   ],
   "source": [
    "f=(df.loc[(df['entry_fee']== 10) & (df[\"Seat\"]==6) & (df[\"Composition\"]==3)])\n",
    "m=f[['Rake']].mean()\n",
    "s=f[['count']].mean()\n",
    "print(m)\n",
    "print(s)"
   ]
  },
  {
   "cell_type": "code",
   "execution_count": 29,
   "metadata": {},
   "outputs": [
    {
     "name": "stdout",
     "output_type": "stream",
     "text": [
      "Rake    1029.142292\n",
      "dtype: float64\n",
      "count    686.094862\n",
      "dtype: float64\n"
     ]
    }
   ],
   "source": [
    "f=(df.loc[(df['entry_fee']== 10) & (df[\"Seat\"]==6) & (df[\"Composition\"]==4)])\n",
    "m=f[['Rake']].mean()\n",
    "s=f[['count']].mean()\n",
    "print(m)\n",
    "print(s)"
   ]
  },
  {
   "cell_type": "code",
   "execution_count": 30,
   "metadata": {},
   "outputs": [
    {
     "name": "stdout",
     "output_type": "stream",
     "text": [
      "Rake    917.116601\n",
      "dtype: float64\n",
      "count    611.411067\n",
      "dtype: float64\n"
     ]
    }
   ],
   "source": [
    "f=(df.loc[(df['entry_fee']== 10) & (df[\"Seat\"]==6) & (df[\"Composition\"]==5)])\n",
    "m=f[['Rake']].mean()\n",
    "s=f[['count']].mean()\n",
    "print(m)\n",
    "print(s)"
   ]
  },
  {
   "cell_type": "code",
   "execution_count": 32,
   "metadata": {},
   "outputs": [
    {
     "name": "stdout",
     "output_type": "stream",
     "text": [
      "Rake    736.27686\n",
      "dtype: float64\n",
      "count    490.85124\n",
      "dtype: float64\n"
     ]
    }
   ],
   "source": [
    "f=(df.loc[(df['entry_fee']== 10) & (df[\"Seat\"]==6) & (df[\"Composition\"]==6)])\n",
    "m=f[['Rake']].mean()\n",
    "s=f[['count']].mean()\n",
    "print(m)\n",
    "print(s)"
   ]
  },
  {
   "cell_type": "code",
   "execution_count": null,
   "metadata": {
    "collapsed": true
   },
   "outputs": [],
   "source": [
    "#############################################################################################################"
   ]
  },
  {
   "cell_type": "code",
   "execution_count": null,
   "metadata": {
    "collapsed": true
   },
   "outputs": [],
   "source": [
    "#######################################################################################################################"
   ]
  },
  {
   "cell_type": "code",
   "execution_count": 33,
   "metadata": {},
   "outputs": [
    {
     "name": "stdout",
     "output_type": "stream",
     "text": [
      "Rake    1083.553427\n",
      "dtype: float64\n",
      "count    288.947581\n",
      "dtype: float64\n"
     ]
    }
   ],
   "source": [
    "f=(df.loc[(df['entry_fee']== 25) & (df[\"Seat\"]==2) & (df[\"Composition\"]==2)])\n",
    "m=f[['Rake']].mean()\n",
    "s=f[['count']].mean()\n",
    "print(m)\n",
    "print(s)"
   ]
  },
  {
   "cell_type": "code",
   "execution_count": 34,
   "metadata": {},
   "outputs": [
    {
     "name": "stdout",
     "output_type": "stream",
     "text": [
      "Rake    1603.063187\n",
      "dtype: float64\n",
      "count    427.483516\n",
      "dtype: float64\n"
     ]
    }
   ],
   "source": [
    "f=(df.loc[(df['entry_fee']== 25) & (df[\"Seat\"]==6) & (df[\"Composition\"]==2)])\n",
    "m=f[['Rake']].mean()\n",
    "s=f[['count']].mean()\n",
    "print(m)\n",
    "print(s)"
   ]
  },
  {
   "cell_type": "code",
   "execution_count": 35,
   "metadata": {},
   "outputs": [
    {
     "name": "stdout",
     "output_type": "stream",
     "text": [
      "Rake    2552.458791\n",
      "dtype: float64\n",
      "count    680.655678\n",
      "dtype: float64\n"
     ]
    }
   ],
   "source": [
    "f=(df.loc[(df['entry_fee']== 25) & (df[\"Seat\"]==6) & (df[\"Composition\"]==3)])\n",
    "m=f[['Rake']].mean()\n",
    "s=f[['count']].mean()\n",
    "print(m)\n",
    "print(s)"
   ]
  },
  {
   "cell_type": "code",
   "execution_count": 36,
   "metadata": {},
   "outputs": [
    {
     "name": "stdout",
     "output_type": "stream",
     "text": [
      "Rake    2933.365385\n",
      "dtype: float64\n",
      "count    782.230769\n",
      "dtype: float64\n"
     ]
    }
   ],
   "source": [
    "f=(df.loc[(df['entry_fee']== 25) & (df[\"Seat\"]==6) & (df[\"Composition\"]==4)])\n",
    "m=f[['Rake']].mean()\n",
    "s=f[['count']].mean()\n",
    "print(m)\n",
    "print(s)"
   ]
  },
  {
   "cell_type": "code",
   "execution_count": 37,
   "metadata": {},
   "outputs": [
    {
     "name": "stdout",
     "output_type": "stream",
     "text": [
      "Rake    2555.054945\n",
      "dtype: float64\n",
      "count    681.347985\n",
      "dtype: float64\n"
     ]
    }
   ],
   "source": [
    "f=(df.loc[(df['entry_fee']== 25) & (df[\"Seat\"]==6) & (df[\"Composition\"]==5)])\n",
    "m=f[['Rake']].mean()\n",
    "s=f[['count']].mean()\n",
    "print(m)\n",
    "print(s)"
   ]
  },
  {
   "cell_type": "code",
   "execution_count": 38,
   "metadata": {},
   "outputs": [
    {
     "name": "stdout",
     "output_type": "stream",
     "text": [
      "Rake    1849.67033\n",
      "dtype: float64\n",
      "count    493.245421\n",
      "dtype: float64\n"
     ]
    }
   ],
   "source": [
    "f=(df.loc[(df['entry_fee']== 25) & (df[\"Seat\"]==6) & (df[\"Composition\"]==6)])\n",
    "m=f[['Rake']].mean()\n",
    "s=f[['count']].mean()\n",
    "print(m)\n",
    "print(s)"
   ]
  },
  {
   "cell_type": "code",
   "execution_count": null,
   "metadata": {
    "collapsed": true
   },
   "outputs": [],
   "source": [
    "#############################################################################################################"
   ]
  },
  {
   "cell_type": "code",
   "execution_count": null,
   "metadata": {
    "collapsed": true
   },
   "outputs": [],
   "source": [
    "##################################################################################################################"
   ]
  },
  {
   "cell_type": "code",
   "execution_count": 39,
   "metadata": {},
   "outputs": [
    {
     "name": "stdout",
     "output_type": "stream",
     "text": [
      "Rake    1111.071429\n",
      "dtype: float64\n",
      "count    148.142857\n",
      "dtype: float64\n"
     ]
    }
   ],
   "source": [
    "f=(df.loc[(df['entry_fee']== 50) & (df[\"Seat\"]==2) & (df[\"Composition\"]==2)])\n",
    "m=f[['Rake']].mean()\n",
    "s=f[['count']].mean()\n",
    "print(m)\n",
    "print(s)"
   ]
  },
  {
   "cell_type": "code",
   "execution_count": 40,
   "metadata": {},
   "outputs": [
    {
     "name": "stdout",
     "output_type": "stream",
     "text": [
      "Rake    2314.980237\n",
      "dtype: float64\n",
      "count    308.664032\n",
      "dtype: float64\n"
     ]
    }
   ],
   "source": [
    "f=(df.loc[(df['entry_fee']== 50) & (df[\"Seat\"]==6) & (df[\"Composition\"]==2)])\n",
    "m=f[['Rake']].mean()\n",
    "s=f[['count']].mean()\n",
    "print(m)\n",
    "print(s)"
   ]
  },
  {
   "cell_type": "code",
   "execution_count": 41,
   "metadata": {},
   "outputs": [
    {
     "name": "stdout",
     "output_type": "stream",
     "text": [
      "Rake    3130.434783\n",
      "dtype: float64\n",
      "count    417.391304\n",
      "dtype: float64\n"
     ]
    }
   ],
   "source": [
    "f=(df.loc[(df['entry_fee']== 50) & (df[\"Seat\"]==6) & (df[\"Composition\"]==3)])\n",
    "m=f[['Rake']].mean()\n",
    "s=f[['count']].mean()\n",
    "print(m)\n",
    "print(s)"
   ]
  },
  {
   "cell_type": "code",
   "execution_count": 42,
   "metadata": {},
   "outputs": [
    {
     "name": "stdout",
     "output_type": "stream",
     "text": [
      "Rake    2834.258893\n",
      "dtype: float64\n",
      "count    377.901186\n",
      "dtype: float64\n"
     ]
    }
   ],
   "source": [
    "f=(df.loc[(df['entry_fee']== 50) & (df[\"Seat\"]==6) & (df[\"Composition\"]==4)])\n",
    "m=f[['Rake']].mean()\n",
    "s=f[['count']].mean()\n",
    "print(m)\n",
    "print(s)"
   ]
  },
  {
   "cell_type": "code",
   "execution_count": 43,
   "metadata": {},
   "outputs": [
    {
     "name": "stdout",
     "output_type": "stream",
     "text": [
      "Rake    1818.112648\n",
      "dtype: float64\n",
      "count    242.41502\n",
      "dtype: float64\n"
     ]
    }
   ],
   "source": [
    "f=(df.loc[(df['entry_fee']== 50) & (df[\"Seat\"]==6) & (df[\"Composition\"]==5)])\n",
    "m=f[['Rake']].mean()\n",
    "s=f[['count']].mean()\n",
    "print(m)\n",
    "print(s)"
   ]
  },
  {
   "cell_type": "code",
   "execution_count": 45,
   "metadata": {},
   "outputs": [
    {
     "name": "stdout",
     "output_type": "stream",
     "text": [
      "Rake    952.951389\n",
      "dtype: float64\n",
      "count    127.060185\n",
      "dtype: float64\n"
     ]
    }
   ],
   "source": [
    "f=(df.loc[(df['entry_fee']== 50) & (df[\"Seat\"]==6) & (df[\"Composition\"]==6)])\n",
    "m=df.loc[f[\"Rake\"].idxmax()]\n",
    "m=f[['Rake']].mean()\n",
    "s=f[['count']].mean()\n",
    "print(m)\n",
    "print(s)"
   ]
  },
  {
   "cell_type": "code",
   "execution_count": null,
   "metadata": {
    "collapsed": true
   },
   "outputs": [],
   "source": [
    "##########################################################################################################"
   ]
  },
  {
   "cell_type": "code",
   "execution_count": null,
   "metadata": {
    "collapsed": true
   },
   "outputs": [],
   "source": [
    "##########################################################################################################"
   ]
  },
  {
   "cell_type": "code",
   "execution_count": 46,
   "metadata": {},
   "outputs": [
    {
     "name": "stdout",
     "output_type": "stream",
     "text": [
      "Rake    980.789474\n",
      "dtype: float64\n",
      "count    65.385965\n",
      "dtype: float64\n"
     ]
    }
   ],
   "source": [
    "f=(df.loc[(df['entry_fee']== 100) & (df[\"Seat\"]==2) & (df[\"Composition\"]==2)])\n",
    "m=f[['Rake']].mean()\n",
    "s=f[['count']].mean()\n",
    "print(m)\n",
    "print(s)"
   ]
  },
  {
   "cell_type": "code",
   "execution_count": 47,
   "metadata": {},
   "outputs": [
    {
     "name": "stdout",
     "output_type": "stream",
     "text": [
      "Rake    5430.274725\n",
      "dtype: float64\n",
      "count    362.018315\n",
      "dtype: float64\n"
     ]
    }
   ],
   "source": [
    "f=(df.loc[(df['entry_fee']== 100) & (df[\"Seat\"]==6) & (df[\"Composition\"]==2)])\n",
    "m=f[['Rake']].mean()\n",
    "s=f[['count']].mean()\n",
    "print(m)\n",
    "print(s)"
   ]
  },
  {
   "cell_type": "code",
   "execution_count": 48,
   "metadata": {},
   "outputs": [
    {
     "name": "stdout",
     "output_type": "stream",
     "text": [
      "Rake    8227.802198\n",
      "dtype: float64\n",
      "count    548.520147\n",
      "dtype: float64\n"
     ]
    }
   ],
   "source": [
    "f=(df.loc[(df['entry_fee']== 100) & (df[\"Seat\"]==6) & (df[\"Composition\"]==3)])\n",
    "m=f[['Rake']].mean()\n",
    "s=f[['count']].mean()\n",
    "print(m)\n",
    "print(s)"
   ]
  },
  {
   "cell_type": "code",
   "execution_count": 49,
   "metadata": {},
   "outputs": [
    {
     "name": "stdout",
     "output_type": "stream",
     "text": [
      "Rake    9718.626374\n",
      "dtype: float64\n",
      "count    647.908425\n",
      "dtype: float64\n"
     ]
    }
   ],
   "source": [
    "f=(df.loc[(df['entry_fee']== 100) & (df[\"Seat\"]==6) & (df[\"Composition\"]==4)])\n",
    "m=f[['Rake']].mean()\n",
    "s=f[['count']].mean()\n",
    "print(m)\n",
    "print(s)"
   ]
  },
  {
   "cell_type": "code",
   "execution_count": 51,
   "metadata": {},
   "outputs": [
    {
     "name": "stdout",
     "output_type": "stream",
     "text": [
      "Rake    7088.956044\n",
      "dtype: float64\n",
      "count    472.59707\n",
      "dtype: float64\n"
     ]
    }
   ],
   "source": [
    "f=(df.loc[(df['entry_fee']== 100) & (df[\"Seat\"]==6) & (df[\"Composition\"]==5)])\n",
    "m=f[['Rake']].mean()\n",
    "s=f[['count']].mean()\n",
    "print(m)\n",
    "print(s)"
   ]
  },
  {
   "cell_type": "code",
   "execution_count": 52,
   "metadata": {},
   "outputs": [
    {
     "name": "stdout",
     "output_type": "stream",
     "text": [
      "Rake    4080.054945\n",
      "dtype: float64\n",
      "count    272.003663\n",
      "dtype: float64\n"
     ]
    }
   ],
   "source": [
    "f=(df.loc[(df['entry_fee']== 100) & (df[\"Seat\"]==6) & (df[\"Composition\"]==6)])\n",
    "m=f[['Rake']].mean()\n",
    "s=f[['count']].mean()\n",
    "print(m)\n",
    "print(s)"
   ]
  },
  {
   "cell_type": "code",
   "execution_count": null,
   "metadata": {
    "collapsed": true
   },
   "outputs": [],
   "source": [
    "##########################################################################################################"
   ]
  },
  {
   "cell_type": "code",
   "execution_count": null,
   "metadata": {
    "collapsed": true
   },
   "outputs": [],
   "source": [
    "##########################################################################################################"
   ]
  },
  {
   "cell_type": "code",
   "execution_count": 53,
   "metadata": {},
   "outputs": [
    {
     "name": "stdout",
     "output_type": "stream",
     "text": [
      "Rake    1300.568182\n",
      "dtype: float64\n",
      "count    34.681818\n",
      "dtype: float64\n"
     ]
    }
   ],
   "source": [
    "f=(df.loc[(df['entry_fee']== 250) & (df[\"Seat\"]==2) & (df[\"Composition\"]==2)])\n",
    "m=f[['Rake']].mean()\n",
    "s=f[['count']].mean()\n",
    "print(m)\n",
    "print(s)"
   ]
  },
  {
   "cell_type": "code",
   "execution_count": 104,
   "metadata": {},
   "outputs": [
    {
     "name": "stdout",
     "output_type": "stream",
     "text": [
      "Rake    9534.340659\n",
      "dtype: float64\n",
      "count    254.249084\n",
      "dtype: float64\n"
     ]
    }
   ],
   "source": [
    "f=(df.loc[(df['entry_fee']== 250) & (df[\"Seat\"]==6) & (df[\"Composition\"]==2)])\n",
    "m=f[['Rake']].mean()\n",
    "s=f[['count']].mean()\n",
    "print(m)\n",
    "print(s)"
   ]
  },
  {
   "cell_type": "code",
   "execution_count": 54,
   "metadata": {},
   "outputs": [
    {
     "name": "stdout",
     "output_type": "stream",
     "text": [
      "Rake    14768.818681\n",
      "dtype: float64\n",
      "count    393.835165\n",
      "dtype: float64\n"
     ]
    }
   ],
   "source": [
    "f=(df.loc[(df['entry_fee']== 250) & (df[\"Seat\"]==6) & (df[\"Composition\"]==3)])\n",
    "m=f[['Rake']].mean()\n",
    "s=f[['count']].mean()\n",
    "print(m)\n",
    "print(s)"
   ]
  },
  {
   "cell_type": "code",
   "execution_count": 55,
   "metadata": {},
   "outputs": [
    {
     "name": "stdout",
     "output_type": "stream",
     "text": [
      "Rake    13051.923077\n",
      "dtype: float64\n",
      "count    348.051282\n",
      "dtype: float64\n"
     ]
    }
   ],
   "source": [
    "f=(df.loc[(df['entry_fee']== 250) & (df[\"Seat\"]==6) & (df[\"Composition\"]==4)])\n",
    "m=f[['Rake']].mean()\n",
    "s=f[['count']].mean()\n",
    "print(m)\n",
    "print(s)"
   ]
  },
  {
   "cell_type": "code",
   "execution_count": 56,
   "metadata": {},
   "outputs": [
    {
     "name": "stdout",
     "output_type": "stream",
     "text": [
      "Rake    6209.340659\n",
      "dtype: float64\n",
      "count    165.582418\n",
      "dtype: float64\n"
     ]
    }
   ],
   "source": [
    "f=(df.loc[(df['entry_fee']== 250) & (df[\"Seat\"]==6) & (df[\"Composition\"]==5)])\n",
    "m=f[['Rake']].mean()\n",
    "s=f[['count']].mean()\n",
    "print(m)\n",
    "print(s)"
   ]
  },
  {
   "cell_type": "code",
   "execution_count": 57,
   "metadata": {},
   "outputs": [
    {
     "name": "stdout",
     "output_type": "stream",
     "text": [
      "Rake    2462.921348\n",
      "dtype: float64\n",
      "count    65.677903\n",
      "dtype: float64\n"
     ]
    }
   ],
   "source": [
    "f=(df.loc[(df['entry_fee']== 250) & (df[\"Seat\"]==6) & (df[\"Composition\"]==6)])\n",
    "m=f[['Rake']].mean()\n",
    "s=f[['count']].mean()\n",
    "print(m)\n",
    "print(s)"
   ]
  },
  {
   "cell_type": "code",
   "execution_count": null,
   "metadata": {
    "collapsed": true
   },
   "outputs": [],
   "source": [
    "##########################################################################################################"
   ]
  },
  {
   "cell_type": "code",
   "execution_count": null,
   "metadata": {
    "collapsed": true
   },
   "outputs": [],
   "source": [
    "##########################################################################################################"
   ]
  },
  {
   "cell_type": "code",
   "execution_count": 58,
   "metadata": {},
   "outputs": [
    {
     "name": "stdout",
     "output_type": "stream",
     "text": [
      "Rake    1231.392405\n",
      "dtype: float64\n",
      "count    20.523207\n",
      "dtype: float64\n"
     ]
    }
   ],
   "source": [
    "f=(df.loc[(df['entry_fee']== 500) & (df[\"Seat\"]==2) & (df[\"Composition\"]==2)])\n",
    "m=f[['Rake']].mean()\n",
    "s=f[['count']].mean()\n",
    "print(m)\n",
    "print(s)"
   ]
  },
  {
   "cell_type": "code",
   "execution_count": 59,
   "metadata": {},
   "outputs": [
    {
     "name": "stdout",
     "output_type": "stream",
     "text": [
      "Rake    9534.945055\n",
      "dtype: float64\n",
      "count    158.915751\n",
      "dtype: float64\n"
     ]
    }
   ],
   "source": [
    "f=(df.loc[(df['entry_fee']== 500) & (df[\"Seat\"]==6) & (df[\"Composition\"]==2)])\n",
    "m=f[['Rake']].mean()\n",
    "s=f[['count']].mean()\n",
    "print(m)\n",
    "print(s)"
   ]
  },
  {
   "cell_type": "code",
   "execution_count": 60,
   "metadata": {},
   "outputs": [
    {
     "name": "stdout",
     "output_type": "stream",
     "text": [
      "Rake    10003.516484\n",
      "dtype: float64\n",
      "count    166.725275\n",
      "dtype: float64\n"
     ]
    }
   ],
   "source": [
    "f=(df.loc[(df['entry_fee']== 500) & (df[\"Seat\"]==6) & (df[\"Composition\"]==3)])\n",
    "m=f[['Rake']].mean()\n",
    "s=f[['count']].mean()\n",
    "print(m)\n",
    "print(s)"
   ]
  },
  {
   "cell_type": "code",
   "execution_count": 61,
   "metadata": {},
   "outputs": [
    {
     "name": "stdout",
     "output_type": "stream",
     "text": [
      "Rake    5370.549451\n",
      "dtype: float64\n",
      "count    89.509158\n",
      "dtype: float64\n"
     ]
    }
   ],
   "source": [
    "f=(df.loc[(df['entry_fee']== 500) & (df[\"Seat\"]==6) & (df[\"Composition\"]==4)])\n",
    "m=f[['Rake']].mean()\n",
    "s=f[['count']].mean()\n",
    "print(m)\n",
    "print(s)"
   ]
  },
  {
   "cell_type": "code",
   "execution_count": 62,
   "metadata": {},
   "outputs": [
    {
     "name": "stdout",
     "output_type": "stream",
     "text": [
      "Rake    1492.105263\n",
      "dtype: float64\n",
      "count    24.868421\n",
      "dtype: float64\n"
     ]
    }
   ],
   "source": [
    "f=(df.loc[(df['entry_fee']== 500) & (df[\"Seat\"]==6) & (df[\"Composition\"]==5)])\n",
    "m=f[['Rake']].mean()\n",
    "s=f[['count']].mean()\n",
    "print(m)\n",
    "print(s)"
   ]
  },
  {
   "cell_type": "code",
   "execution_count": 63,
   "metadata": {},
   "outputs": [
    {
     "name": "stdout",
     "output_type": "stream",
     "text": [
      "Rake    571.621622\n",
      "dtype: float64\n",
      "count    9.527027\n",
      "dtype: float64\n"
     ]
    }
   ],
   "source": [
    "f=(df.loc[(df['entry_fee']== 500) & (df[\"Seat\"]==6) & (df[\"Composition\"]==6)])\n",
    "m=f[['Rake']].mean()\n",
    "s=f[['count']].mean()\n",
    "print(m)\n",
    "print(s)"
   ]
  },
  {
   "cell_type": "code",
   "execution_count": null,
   "metadata": {
    "collapsed": true
   },
   "outputs": [],
   "source": [
    "##########################################################################################################"
   ]
  },
  {
   "cell_type": "code",
   "execution_count": null,
   "metadata": {
    "collapsed": true
   },
   "outputs": [],
   "source": [
    "##########################################################################################################"
   ]
  },
  {
   "cell_type": "code",
   "execution_count": 64,
   "metadata": {},
   "outputs": [
    {
     "name": "stdout",
     "output_type": "stream",
     "text": [
      "Rake    2961.111111\n",
      "dtype: float64\n",
      "count    29.611111\n",
      "dtype: float64\n"
     ]
    }
   ],
   "source": [
    "f=(df.loc[(df['entry_fee']== 1000) & (df[\"Seat\"]==2) & (df[\"Composition\"]==2)])\n",
    "m=f[['Rake']].mean()\n",
    "s=f[['count']].mean()\n",
    "print(m)\n",
    "print(s)"
   ]
  },
  {
   "cell_type": "code",
   "execution_count": 65,
   "metadata": {},
   "outputs": [
    {
     "name": "stdout",
     "output_type": "stream",
     "text": [
      "Rake    25111.355311\n",
      "dtype: float64\n",
      "count    251.113553\n",
      "dtype: float64\n"
     ]
    }
   ],
   "source": [
    "f=(df.loc[(df['entry_fee']== 1000) & (df[\"Seat\"]==6) & (df[\"Composition\"]==2)])\n",
    "m=f[['Rake']].mean()\n",
    "s=f[['count']].mean()\n",
    "print(m)\n",
    "print(s)"
   ]
  },
  {
   "cell_type": "code",
   "execution_count": 66,
   "metadata": {},
   "outputs": [
    {
     "name": "stdout",
     "output_type": "stream",
     "text": [
      "Rake    41320.879121\n",
      "dtype: float64\n",
      "count    413.208791\n",
      "dtype: float64\n"
     ]
    }
   ],
   "source": [
    "f=(df.loc[(df['entry_fee']== 1000) & (df[\"Seat\"]==6) & (df[\"Composition\"]==3)])\n",
    "m=f[['Rake']].mean()\n",
    "s=f[['count']].mean()\n",
    "print(m)\n",
    "print(s)"
   ]
  },
  {
   "cell_type": "code",
   "execution_count": 67,
   "metadata": {},
   "outputs": [
    {
     "name": "stdout",
     "output_type": "stream",
     "text": [
      "Rake    42528.937729\n",
      "dtype: float64\n",
      "count    425.289377\n",
      "dtype: float64\n"
     ]
    }
   ],
   "source": [
    "f=(df.loc[(df['entry_fee']== 1000) & (df[\"Seat\"]==6) & (df[\"Composition\"]==4)])\n",
    "m=f[['Rake']].mean()\n",
    "s=f[['count']].mean()\n",
    "print(m)\n",
    "print(s)"
   ]
  },
  {
   "cell_type": "code",
   "execution_count": 68,
   "metadata": {},
   "outputs": [
    {
     "name": "stdout",
     "output_type": "stream",
     "text": [
      "Rake    21810.989011\n",
      "dtype: float64\n",
      "count    218.10989\n",
      "dtype: float64\n"
     ]
    }
   ],
   "source": [
    "f=(df.loc[(df['entry_fee']== 1000) & (df[\"Seat\"]==6) & (df[\"Composition\"]==5)])\n",
    "m=f[['Rake']].mean()\n",
    "s=f[['count']].mean()\n",
    "print(m)\n",
    "print(s)"
   ]
  },
  {
   "cell_type": "code",
   "execution_count": 69,
   "metadata": {},
   "outputs": [
    {
     "name": "stdout",
     "output_type": "stream",
     "text": [
      "Rake    9216.176471\n",
      "dtype: float64\n",
      "count    92.161765\n",
      "dtype: float64\n"
     ]
    }
   ],
   "source": [
    "f=(df.loc[(df['entry_fee']== 1000) & (df[\"Seat\"]==6) & (df[\"Composition\"]==6)])\n",
    "m=f[['Rake']].mean()\n",
    "s=f[['count']].mean()\n",
    "print(m)\n",
    "print(s)"
   ]
  },
  {
   "cell_type": "code",
   "execution_count": null,
   "metadata": {
    "collapsed": true
   },
   "outputs": [],
   "source": [
    "##########################################################################################################"
   ]
  },
  {
   "cell_type": "code",
   "execution_count": null,
   "metadata": {
    "collapsed": true
   },
   "outputs": [],
   "source": [
    "##########################################################################################################"
   ]
  },
  {
   "cell_type": "code",
   "execution_count": 70,
   "metadata": {},
   "outputs": [
    {
     "name": "stdout",
     "output_type": "stream",
     "text": [
      "Rake    4592.857143\n",
      "dtype: float64\n",
      "count    22.964286\n",
      "dtype: float64\n"
     ]
    }
   ],
   "source": [
    "f=(df.loc[(df['entry_fee']== 2000) & (df[\"Seat\"]==2) & (df[\"Composition\"]==2)])\n",
    "m=f[['Rake']].mean()\n",
    "s=f[['count']].mean()\n",
    "print(m)\n",
    "print(s)"
   ]
  },
  {
   "cell_type": "code",
   "execution_count": 71,
   "metadata": {},
   "outputs": [
    {
     "name": "stdout",
     "output_type": "stream",
     "text": [
      "Rake    1960.0\n",
      "dtype: float64\n",
      "count    9.8\n",
      "dtype: float64\n"
     ]
    }
   ],
   "source": [
    "f=(df.loc[(df['entry_fee']== 2000) & (df[\"Seat\"]==6) & (df[\"Composition\"]==2)])\n",
    "m=f[['Rake']].mean()\n",
    "s=f[['count']].mean()\n",
    "print(m)\n",
    "print(s)"
   ]
  },
  {
   "cell_type": "code",
   "execution_count": 72,
   "metadata": {},
   "outputs": [
    {
     "name": "stdout",
     "output_type": "stream",
     "text": [
      "Rake    1273.846154\n",
      "dtype: float64\n",
      "count    6.369231\n",
      "dtype: float64\n"
     ]
    }
   ],
   "source": [
    "f=(df.loc[(df['entry_fee']== 2000) & (df[\"Seat\"]==6) & (df[\"Composition\"]==3)])\n",
    "m=f[['Rake']].mean()\n",
    "s=f[['count']].mean()\n",
    "print(m)\n",
    "print(s)"
   ]
  },
  {
   "cell_type": "code",
   "execution_count": 74,
   "metadata": {},
   "outputs": [
    {
     "name": "stdout",
     "output_type": "stream",
     "text": [
      "Rake    894.117647\n",
      "dtype: float64\n",
      "count    4.470588\n",
      "dtype: float64\n"
     ]
    }
   ],
   "source": [
    "f=(df.loc[(df['entry_fee']== 2000) & (df[\"Seat\"]==6) & (df[\"Composition\"]==4)])\n",
    "m=f[['Rake']].mean()\n",
    "s=f[['count']].mean()\n",
    "print(m)\n",
    "print(s)"
   ]
  },
  {
   "cell_type": "code",
   "execution_count": 75,
   "metadata": {},
   "outputs": [
    {
     "name": "stdout",
     "output_type": "stream",
     "text": [
      "Rake    2000.0\n",
      "dtype: float64\n",
      "count    10.0\n",
      "dtype: float64\n"
     ]
    }
   ],
   "source": [
    "f=(df.loc[(df['entry_fee']== 2000) & (df[\"Seat\"]==6) & (df[\"Composition\"]==5)])\n",
    "m=f[['Rake']].mean()\n",
    "s=f[['count']].mean()\n",
    "print(m)\n",
    "print(s)"
   ]
  },
  {
   "cell_type": "code",
   "execution_count": 76,
   "metadata": {},
   "outputs": [
    {
     "name": "stdout",
     "output_type": "stream",
     "text": [
      "Rake    1200.0\n",
      "dtype: float64\n",
      "count    6.0\n",
      "dtype: float64\n"
     ]
    }
   ],
   "source": [
    "f=(df.loc[(df['entry_fee']== 2000) & (df[\"Seat\"]==6) & (df[\"Composition\"]==6)])\n",
    "m=f[['Rake']].mean()\n",
    "s=f[['count']].mean()\n",
    "print(m)\n",
    "print(s)"
   ]
  },
  {
   "cell_type": "code",
   "execution_count": null,
   "metadata": {
    "collapsed": true
   },
   "outputs": [],
   "source": [
    "##########################################################################################################"
   ]
  },
  {
   "cell_type": "code",
   "execution_count": null,
   "metadata": {
    "collapsed": true
   },
   "outputs": [],
   "source": [
    "##########################################################################################################"
   ]
  },
  {
   "cell_type": "code",
   "execution_count": 78,
   "metadata": {},
   "outputs": [
    {
     "name": "stdout",
     "output_type": "stream",
     "text": [
      "Rake    1000.0\n",
      "dtype: float64\n",
      "count    4.0\n",
      "dtype: float64\n"
     ]
    }
   ],
   "source": [
    "f=(df.loc[(df['entry_fee']== 2500) & (df[\"Seat\"]==2) & (df[\"Composition\"]==2)])\n",
    "m=f[['Rake']].mean()\n",
    "s=f[['count']].mean()\n",
    "print(m)\n",
    "print(s)"
   ]
  },
  {
   "cell_type": "code",
   "execution_count": 79,
   "metadata": {},
   "outputs": [
    {
     "name": "stdout",
     "output_type": "stream",
     "text": [
      "Rake    43000.0\n",
      "dtype: float64\n",
      "count    172.0\n",
      "dtype: float64\n"
     ]
    }
   ],
   "source": [
    "f=(df.loc[(df['entry_fee']== 2500) & (df[\"Seat\"]==6) & (df[\"Composition\"]==2)])\n",
    "m=f[['Rake']].mean()\n",
    "s=f[['count']].mean()\n",
    "print(m)\n",
    "print(s)"
   ]
  },
  {
   "cell_type": "code",
   "execution_count": 80,
   "metadata": {},
   "outputs": [
    {
     "name": "stdout",
     "output_type": "stream",
     "text": [
      "Rake    54000.0\n",
      "dtype: float64\n",
      "count    216.0\n",
      "dtype: float64\n"
     ]
    }
   ],
   "source": [
    "f=(df.loc[(df['entry_fee']== 2500) & (df[\"Seat\"]==6) & (df[\"Composition\"]==3)])\n",
    "m=f[['Rake']].mean()\n",
    "s=f[['count']].mean()\n",
    "print(m)\n",
    "print(s)"
   ]
  },
  {
   "cell_type": "code",
   "execution_count": 81,
   "metadata": {},
   "outputs": [
    {
     "name": "stdout",
     "output_type": "stream",
     "text": [
      "Rake    23000.0\n",
      "dtype: float64\n",
      "count    92.0\n",
      "dtype: float64\n"
     ]
    }
   ],
   "source": [
    "f=(df.loc[(df['entry_fee']== 2500) & (df[\"Seat\"]==6) & (df[\"Composition\"]==4)])\n",
    "m=f[['Rake']].mean()\n",
    "s=f[['count']].mean()\n",
    "print(m)\n",
    "print(s)"
   ]
  },
  {
   "cell_type": "code",
   "execution_count": 82,
   "metadata": {},
   "outputs": [
    {
     "name": "stdout",
     "output_type": "stream",
     "text": [
      "Rake    7916.666667\n",
      "dtype: float64\n",
      "count    31.666667\n",
      "dtype: float64\n"
     ]
    }
   ],
   "source": [
    "f=(df.loc[(df['entry_fee']== 2500) & (df[\"Seat\"]==6) & (df[\"Composition\"]==5)])\n",
    "m=f[['Rake']].mean()\n",
    "s=f[['count']].mean()\n",
    "print(m)\n",
    "print(s)"
   ]
  },
  {
   "cell_type": "code",
   "execution_count": 83,
   "metadata": {},
   "outputs": [
    {
     "name": "stdout",
     "output_type": "stream",
     "text": [
      "Rake    1500.0\n",
      "dtype: float64\n",
      "count    6.0\n",
      "dtype: float64\n"
     ]
    }
   ],
   "source": [
    "f=(df.loc[(df['entry_fee']== 2500) & (df[\"Seat\"]==6) & (df[\"Composition\"]==6)])\n",
    "m=f[['Rake']].mean()\n",
    "s=f[['count']].mean()\n",
    "print(m)\n",
    "print(s)"
   ]
  },
  {
   "cell_type": "code",
   "execution_count": null,
   "metadata": {
    "collapsed": true
   },
   "outputs": [],
   "source": [
    "##########################################################################################################"
   ]
  },
  {
   "cell_type": "code",
   "execution_count": null,
   "metadata": {
    "collapsed": true
   },
   "outputs": [],
   "source": [
    "##########################################################################################################"
   ]
  },
  {
   "cell_type": "code",
   "execution_count": 84,
   "metadata": {},
   "outputs": [
    {
     "name": "stdout",
     "output_type": "stream",
     "text": [
      "Rake    11406.666667\n",
      "dtype: float64\n",
      "count    38.022222\n",
      "dtype: float64\n"
     ]
    }
   ],
   "source": [
    "f=(df.loc[(df['entry_fee']== 3000) & (df[\"Seat\"]==2) & (df[\"Composition\"]==2)])\n",
    "m=f[['Rake']].mean()\n",
    "s=f[['count']].mean()\n",
    "print(m)\n",
    "print(s)"
   ]
  },
  {
   "cell_type": "code",
   "execution_count": 85,
   "metadata": {},
   "outputs": [
    {
     "name": "stdout",
     "output_type": "stream",
     "text": [
      "Rake    30075.276753\n",
      "dtype: float64\n",
      "count    100.250923\n",
      "dtype: float64\n"
     ]
    }
   ],
   "source": [
    "f=(df.loc[(df['entry_fee']== 3000) & (df[\"Seat\"]==6) & (df[\"Composition\"]==2)])\n",
    "m=f[['Rake']].mean()\n",
    "s=f[['count']].mean()\n",
    "print(m)\n",
    "print(s)"
   ]
  },
  {
   "cell_type": "code",
   "execution_count": 86,
   "metadata": {},
   "outputs": [
    {
     "name": "stdout",
     "output_type": "stream",
     "text": [
      "Rake    43332.841328\n",
      "dtype: float64\n",
      "count    144.442804\n",
      "dtype: float64\n"
     ]
    }
   ],
   "source": [
    "f=(df.loc[(df['entry_fee']== 3000) & (df[\"Seat\"]==6) & (df[\"Composition\"]==3)])\n",
    "m=f[['Rake']].mean()\n",
    "s=f[['count']].mean()\n",
    "print(m)\n",
    "print(s)"
   ]
  },
  {
   "cell_type": "code",
   "execution_count": 87,
   "metadata": {},
   "outputs": [
    {
     "name": "stdout",
     "output_type": "stream",
     "text": [
      "Rake    19653.932584\n",
      "dtype: float64\n",
      "count    65.513109\n",
      "dtype: float64\n"
     ]
    }
   ],
   "source": [
    "f=(df.loc[(df['entry_fee']== 3000) & (df[\"Seat\"]==6) & (df[\"Composition\"]==4)])\n",
    "m=f[['Rake']].mean()\n",
    "s=f[['count']].mean()\n",
    "print(m)\n",
    "print(s)"
   ]
  },
  {
   "cell_type": "code",
   "execution_count": 88,
   "metadata": {},
   "outputs": [
    {
     "name": "stdout",
     "output_type": "stream",
     "text": [
      "Rake    6191.629956\n",
      "dtype: float64\n",
      "count    20.638767\n",
      "dtype: float64\n"
     ]
    }
   ],
   "source": [
    "f=(df.loc[(df['entry_fee']== 3000) & (df[\"Seat\"]==6) & (df[\"Composition\"]==5)])\n",
    "m=f[['Rake']].mean()\n",
    "s=f[['count']].mean()\n",
    "print(m)\n",
    "print(s)"
   ]
  },
  {
   "cell_type": "code",
   "execution_count": 89,
   "metadata": {},
   "outputs": [
    {
     "name": "stdout",
     "output_type": "stream",
     "text": [
      "Rake    3104.587156\n",
      "dtype: float64\n",
      "count    10.348624\n",
      "dtype: float64\n"
     ]
    }
   ],
   "source": [
    "f=(df.loc[(df['entry_fee']== 3000) & (df[\"Seat\"]==6) & (df[\"Composition\"]==6)])\n",
    "m=f[['Rake']].mean()\n",
    "s=f[['count']].mean()\n",
    "print(m)\n",
    "print(s)"
   ]
  },
  {
   "cell_type": "code",
   "execution_count": null,
   "metadata": {
    "collapsed": true
   },
   "outputs": [],
   "source": [
    "##########################################################################################################"
   ]
  },
  {
   "cell_type": "code",
   "execution_count": null,
   "metadata": {
    "collapsed": true
   },
   "outputs": [],
   "source": [
    "##########################################################################################################"
   ]
  },
  {
   "cell_type": "code",
   "execution_count": 90,
   "metadata": {},
   "outputs": [
    {
     "name": "stdout",
     "output_type": "stream",
     "text": [
      "Rake    23835.059761\n",
      "dtype: float64\n",
      "count    59.418327\n",
      "dtype: float64\n"
     ]
    }
   ],
   "source": [
    "f=(df.loc[(df['entry_fee']== 5000) & (df[\"Seat\"]==2) & (df[\"Composition\"]==2)])\n",
    "m=f[['Rake']].mean()\n",
    "s=f[['count']].mean()\n",
    "print(m)\n",
    "print(s)"
   ]
  },
  {
   "cell_type": "code",
   "execution_count": 91,
   "metadata": {},
   "outputs": [
    {
     "name": "stdout",
     "output_type": "stream",
     "text": [
      "Rake   NaN\n",
      "dtype: float64\n",
      "count   NaN\n",
      "dtype: float64\n"
     ]
    }
   ],
   "source": [
    "f=(df.loc[(df['entry_fee']== 5000) & (df[\"Seat\"]==6) & (df[\"Composition\"]==2)])\n",
    "m=f[['Rake']].mean()\n",
    "s=f[['count']].mean()\n",
    "print(m)\n",
    "print(s)"
   ]
  },
  {
   "cell_type": "code",
   "execution_count": 92,
   "metadata": {},
   "outputs": [
    {
     "name": "stdout",
     "output_type": "stream",
     "text": [
      "Rake   NaN\n",
      "dtype: float64\n",
      "count   NaN\n",
      "dtype: float64\n"
     ]
    }
   ],
   "source": [
    "f=(df.loc[(df['entry_fee']== 5000) & (df[\"Seat\"]==6) & (df[\"Composition\"]==3)])\n",
    "m=f[['Rake']].mean()\n",
    "s=f[['count']].mean()\n",
    "print(m)\n",
    "print(s)"
   ]
  },
  {
   "cell_type": "code",
   "execution_count": 93,
   "metadata": {},
   "outputs": [
    {
     "name": "stdout",
     "output_type": "stream",
     "text": [
      "Rake   NaN\n",
      "dtype: float64\n",
      "count   NaN\n",
      "dtype: float64\n"
     ]
    }
   ],
   "source": [
    "f=(df.loc[(df['entry_fee']== 5000) & (df[\"Seat\"]==6) & (df[\"Composition\"]==4)])\n",
    "m=f[['Rake']].mean()\n",
    "s=f[['count']].mean()\n",
    "print(m)\n",
    "print(s)"
   ]
  },
  {
   "cell_type": "code",
   "execution_count": 94,
   "metadata": {},
   "outputs": [
    {
     "name": "stdout",
     "output_type": "stream",
     "text": [
      "Rake   NaN\n",
      "dtype: float64\n",
      "count   NaN\n",
      "dtype: float64\n"
     ]
    }
   ],
   "source": [
    "f=(df.loc[(df['entry_fee']== 5000) & (df[\"Seat\"]==6) & (df[\"Composition\"]==5)])\n",
    "m=f[['Rake']].mean()\n",
    "s=f[['count']].mean()\n",
    "print(m)\n",
    "print(s)"
   ]
  },
  {
   "cell_type": "code",
   "execution_count": 96,
   "metadata": {},
   "outputs": [
    {
     "name": "stdout",
     "output_type": "stream",
     "text": [
      "Rake   NaN\n",
      "dtype: float64\n",
      "count   NaN\n",
      "dtype: float64\n"
     ]
    }
   ],
   "source": [
    "f=(df.loc[(df['entry_fee']== 5000) & (df[\"Seat\"]==6) & (df[\"Composition\"]==6)])\n",
    "m=f[['Rake']].mean()\n",
    "s=f[['count']].mean()\n",
    "print(m)\n",
    "print(s)"
   ]
  },
  {
   "cell_type": "code",
   "execution_count": null,
   "metadata": {
    "collapsed": true
   },
   "outputs": [],
   "source": [
    "##########################################################################################################"
   ]
  },
  {
   "cell_type": "code",
   "execution_count": null,
   "metadata": {
    "collapsed": true
   },
   "outputs": [],
   "source": [
    "##########################################################################################################"
   ]
  },
  {
   "cell_type": "code",
   "execution_count": 98,
   "metadata": {},
   "outputs": [
    {
     "name": "stdout",
     "output_type": "stream",
     "text": [
      "Rake    106447.058824\n",
      "dtype: float64\n",
      "count    170.911765\n",
      "dtype: float64\n"
     ]
    }
   ],
   "source": [
    "f=(df.loc[(df['entry_fee']== 10000) & (df[\"Seat\"]==2) & (df[\"Composition\"]==2)])\n",
    "m=f[['Rake']].mean()\n",
    "s=f[['count']].mean()\n",
    "print(m)\n",
    "print(s)"
   ]
  },
  {
   "cell_type": "code",
   "execution_count": 99,
   "metadata": {},
   "outputs": [
    {
     "name": "stdout",
     "output_type": "stream",
     "text": [
      "Rake   NaN\n",
      "dtype: float64\n",
      "count   NaN\n",
      "dtype: float64\n"
     ]
    }
   ],
   "source": [
    "f=(df.loc[(df['entry_fee']== 10000) & (df[\"Seat\"]==6) & (df[\"Composition\"]==2)])\n",
    "m=f[['Rake']].mean()\n",
    "s=f[['count']].mean()\n",
    "print(m)\n",
    "print(s)"
   ]
  },
  {
   "cell_type": "code",
   "execution_count": 100,
   "metadata": {},
   "outputs": [
    {
     "name": "stdout",
     "output_type": "stream",
     "text": [
      "Rake   NaN\n",
      "dtype: float64\n",
      "count   NaN\n",
      "dtype: float64\n"
     ]
    }
   ],
   "source": [
    "f=(df.loc[(df['entry_fee']== 10000) & (df[\"Seat\"]==6) & (df[\"Composition\"]==3)])\n",
    "m=f[['Rake']].mean()\n",
    "s=f[['count']].mean()\n",
    "print(m)\n",
    "print(s)"
   ]
  },
  {
   "cell_type": "code",
   "execution_count": 101,
   "metadata": {},
   "outputs": [
    {
     "name": "stdout",
     "output_type": "stream",
     "text": [
      "Rake   NaN\n",
      "dtype: float64\n",
      "count   NaN\n",
      "dtype: float64\n"
     ]
    }
   ],
   "source": [
    "f=(df.loc[(df['entry_fee']== 10000) & (df[\"Seat\"]==6) & (df[\"Composition\"]==4)])\n",
    "m=f[['Rake']].mean()\n",
    "s=f[['count']].mean()\n",
    "print(m)\n",
    "print(s)"
   ]
  },
  {
   "cell_type": "code",
   "execution_count": 102,
   "metadata": {},
   "outputs": [
    {
     "name": "stdout",
     "output_type": "stream",
     "text": [
      "Rake   NaN\n",
      "dtype: float64\n",
      "count   NaN\n",
      "dtype: float64\n"
     ]
    }
   ],
   "source": [
    "f=(df.loc[(df['entry_fee']== 10000) & (df[\"Seat\"]==6) & (df[\"Composition\"]==5)])\n",
    "m=f[['Rake']].mean()\n",
    "s=f[['count']].mean()\n",
    "print(m)\n",
    "print(s)"
   ]
  },
  {
   "cell_type": "code",
   "execution_count": 103,
   "metadata": {},
   "outputs": [
    {
     "name": "stdout",
     "output_type": "stream",
     "text": [
      "Rake   NaN\n",
      "dtype: float64\n",
      "count   NaN\n",
      "dtype: float64\n"
     ]
    }
   ],
   "source": [
    "f=(df.loc[(df['entry_fee']== 10000) & (df[\"Seat\"]==6) & (df[\"Composition\"]==6)])\n",
    "m=f[['Rake']].mean()\n",
    "s=f[['count']].mean()\n",
    "print(m)\n",
    "print(s)"
   ]
  },
  {
   "cell_type": "code",
   "execution_count": null,
   "metadata": {
    "collapsed": true
   },
   "outputs": [],
   "source": [
    "##########################################################################################################"
   ]
  },
  {
   "cell_type": "code",
   "execution_count": null,
   "metadata": {
    "collapsed": true
   },
   "outputs": [],
   "source": [
    "##########################################################################################################"
   ]
  }
 ],
 "metadata": {
  "kernelspec": {
   "display_name": "Python 3",
   "language": "python",
   "name": "python3"
  },
  "language_info": {
   "codemirror_mode": {
    "name": "ipython",
    "version": 3
   },
   "file_extension": ".py",
   "mimetype": "text/x-python",
   "name": "python",
   "nbconvert_exporter": "python",
   "pygments_lexer": "ipython3",
   "version": "3.6.3"
  }
 },
 "nbformat": 4,
 "nbformat_minor": 2
}
